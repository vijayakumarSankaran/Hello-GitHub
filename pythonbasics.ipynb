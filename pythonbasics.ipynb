{
 "cells": [
  {
   "cell_type": "code",
   "execution_count": 48,
   "metadata": {},
   "outputs": [
    {
     "data": {
      "text/plain": [
       "['C(=N)(N)N', 'C(=O)(O)O']"
      ]
     },
     "execution_count": 48,
     "metadata": {},
     "output_type": "execute_result"
    }
   ],
   "source": [
    "s = \"C(=N)(N)N.C(=O)(O)O\"\n",
    "s.find('.')\n",
    "s.split('.')"
   ]
  },
  {
   "cell_type": "code",
   "execution_count": 53,
   "metadata": {},
   "outputs": [
    {
     "name": "stdout",
     "output_type": "stream",
     "text": [
      "contains brother\n",
      "clin@brandeis.edu\n"
     ]
    }
   ],
   "source": [
    "# String operators: in, not in\n",
    "if \"Br\" in \"Brother\":\n",
    "    print (\"contains brother\")\n",
    "\n",
    "email_address = \"clin\"\n",
    "if \"@\" not in email_address:\n",
    "    email_address += \"@brandeis.edu\"\n",
    "    print (email_address)\n"
   ]
  },
  {
   "cell_type": "code",
   "execution_count": 66,
   "metadata": {},
   "outputs": [
    {
     "data": {
      "text/plain": [
       "'Mmohamad'"
      ]
     },
     "execution_count": 66,
     "metadata": {},
     "output_type": "execute_result"
    }
   ],
   "source": [
    "b = 'mohamad'\n",
    "b = 'M' + b[1:]\n",
    "b"
   ]
  },
  {
   "cell_type": "code",
   "execution_count": 67,
   "metadata": {},
   "outputs": [
    {
     "name": "stdout",
     "output_type": "stream",
     "text": [
      "Ben\n",
      "Chen\n",
      "Yaqin\n",
      "gaja\n"
     ]
    },
    {
     "data": {
      "text/plain": [
       "'Ben:Chen:Yaqin:gaja'"
      ]
     },
     "execution_count": 67,
     "metadata": {},
     "output_type": "execute_result"
    }
   ],
   "source": [
    "# List\n",
    "names = [\"Ben\", \"Chen\", \"Yaqin\",\"gaja\"]\n",
    "len(names)\n",
    "names[-4:4]\n",
    "for x in names:\n",
    "    print(x)\n",
    "\":\".join(names)"
   ]
  },
  {
   "cell_type": "code",
   "execution_count": 69,
   "metadata": {},
   "outputs": [
    {
     "data": {
      "text/plain": [
       "['9pti', '2plv', '1crn', '1tad']"
      ]
     },
     "execution_count": 69,
     "metadata": {},
     "output_type": "execute_result"
    }
   ],
   "source": [
    "# Lists are mutable - some useful methods\n",
    "# is a collection which is ordered and changeable. Allows duplicate members.\n",
    "ids = [\"9pti\", \"2plv\", \"1crn\"]\n",
    "ids.append('1tad')\n",
    "ids"
   ]
  },
  {
   "cell_type": "code",
   "execution_count": 74,
   "metadata": {},
   "outputs": [
    {
     "data": {
      "text/plain": [
       "['2plv', '1crn', '1tad']"
      ]
     },
     "execution_count": 74,
     "metadata": {},
     "output_type": "execute_result"
    }
   ],
   "source": [
    "del ids[0]\n",
    "ids"
   ]
  },
  {
   "cell_type": "code",
   "execution_count": 75,
   "metadata": {},
   "outputs": [
    {
     "data": {
      "text/plain": [
       "['1crn', '1tad', '2plv']"
      ]
     },
     "execution_count": 75,
     "metadata": {},
     "output_type": "execute_result"
    }
   ],
   "source": [
    "ids.sort()\n",
    "ids"
   ]
  },
  {
   "cell_type": "code",
   "execution_count": 76,
   "metadata": {},
   "outputs": [
    {
     "data": {
      "text/plain": [
       "['2plv', '1tad', '1crn']"
      ]
     },
     "execution_count": 76,
     "metadata": {},
     "output_type": "execute_result"
    }
   ],
   "source": [
    "ids.reverse()\n",
    "ids"
   ]
  },
  {
   "cell_type": "code",
   "execution_count": 77,
   "metadata": {},
   "outputs": [
    {
     "data": {
      "text/plain": [
       "['9pti', '2plv', '1tad', '1crn']"
      ]
     },
     "execution_count": 77,
     "metadata": {},
     "output_type": "execute_result"
    }
   ],
   "source": [
    "ids.insert(0,'9pti')\n",
    "ids"
   ]
  },
  {
   "cell_type": "code",
   "execution_count": 93,
   "metadata": {},
   "outputs": [
    {
     "data": {
      "text/plain": [
       "['abcd', '2plv', '1tad', '1crn']"
      ]
     },
     "execution_count": 93,
     "metadata": {},
     "output_type": "execute_result"
    }
   ],
   "source": [
    "ids[0]=\"abcd\"\n",
    "ids"
   ]
  },
  {
   "cell_type": "code",
   "execution_count": 95,
   "metadata": {},
   "outputs": [
    {
     "ename": "TypeError",
     "evalue": "'tuple' object does not support item assignment",
     "output_type": "error",
     "traceback": [
      "\u001b[1;31m---------------------------------------------------------------------------\u001b[0m",
      "\u001b[1;31mTypeError\u001b[0m                                 Traceback (most recent call last)",
      "\u001b[1;32m<ipython-input-95-0208b94bf543>\u001b[0m in \u001b[0;36m<module>\u001b[1;34m()\u001b[0m\n\u001b[0;32m      1\u001b[0m \u001b[1;31m# Tuple is a collection which is ordered and unchangeable. Allows duplicate members.\u001b[0m\u001b[1;33m\u001b[0m\u001b[1;33m\u001b[0m\u001b[0m\n\u001b[0;32m      2\u001b[0m \u001b[0mtupples\u001b[0m \u001b[1;33m=\u001b[0m \u001b[1;33m(\u001b[0m\u001b[1;34m\"wwe\"\u001b[0m\u001b[1;33m,\u001b[0m \u001b[1;34m\"bdfd\"\u001b[0m\u001b[1;33m,\u001b[0m \u001b[1;34m\"weyuy\"\u001b[0m\u001b[1;33m)\u001b[0m\u001b[1;33m\u001b[0m\u001b[0m\n\u001b[1;32m----> 3\u001b[1;33m \u001b[0mtupples\u001b[0m\u001b[1;33m[\u001b[0m\u001b[1;36m0\u001b[0m\u001b[1;33m]\u001b[0m\u001b[1;33m=\u001b[0m\u001b[1;34m\"abcd\"\u001b[0m\u001b[1;33m\u001b[0m\u001b[0m\n\u001b[0m\u001b[0;32m      4\u001b[0m \u001b[0mtuples\u001b[0m\u001b[1;33m\u001b[0m\u001b[0m\n",
      "\u001b[1;31mTypeError\u001b[0m: 'tuple' object does not support item assignment"
     ]
    }
   ],
   "source": [
    "# Tuple is a collection which is ordered and unchangeable. Allows duplicate members.\n",
    "tupples = (\"wwe\", \"bdfd\", \"weyuy\")\n",
    "tupples[0]=\"abcd\"\n",
    "tuples"
   ]
  },
  {
   "cell_type": "code",
   "execution_count": 92,
   "metadata": {},
   "outputs": [
    {
     "name": "stdout",
     "output_type": "stream",
     "text": [
      "The zipped result is : {('Shambhavi', 3, 60), ('Nikhil', 1, 50), ('Astha', 2, 70), ('Manjeet', 4, 40)}\n"
     ]
    }
   ],
   "source": [
    "#zipping lists together\n",
    "\n",
    "name = [ \"Manjeet\", \"Nikhil\", \"Shambhavi\", \"Astha\" ] \n",
    "roll_no = [ 4, 1, 3, 2 ] \n",
    "marks = [ 40, 50, 60, 70 ] \n",
    "  \n",
    "# using zip() to map values \n",
    "mapped = zip(name, roll_no, marks) \n",
    "  \n",
    "# converting values to print as set \n",
    "mapped = set(mapped) \n",
    "  \n",
    "# printing resultant values  \n",
    "print (\"The zipped result is : \",end=\"\") \n",
    "print (mapped) "
   ]
  },
  {
   "cell_type": "code",
   "execution_count": 96,
   "metadata": {},
   "outputs": [],
   "source": [
    "# Dictionaries\n",
    "\n",
    "#Dictionaries are lookup tables.\n",
    "#They map from a “key” to a “value”.\n",
    "symbol_to_name = {\n",
    "    \"H\": \"hydrogen\",\n",
    "    \"He\": \"helium\",\n",
    "    \"Li\": \"lithium\",\n",
    "    \"C\": \"carbon\",\n",
    "    \"O\": \"oxygen\",\n",
    "    \"N\": \"nitrogen\"\n",
    "    }\n",
    "# Duplicate keys are not allowed\n",
    "# Duplicate values are just fine\n"
   ]
  },
  {
   "cell_type": "code",
   "execution_count": 104,
   "metadata": {},
   "outputs": [
    {
     "data": {
      "text/plain": [
       "{'H': 'hydrogen',\n",
       " 'He': 'helium',\n",
       " 'Li': 'lithium',\n",
       " 'C': 'carbon',\n",
       " 'O': 'oxygen',\n",
       " 'N': 'nitrogen',\n",
       " 'P': 'phosphorous',\n",
       " 'S': 'sulfur'}"
      ]
     },
     "execution_count": 104,
     "metadata": {},
     "output_type": "execute_result"
    }
   ],
   "source": [
    "symbol_to_name[\"C\"]\n",
    "\"O\" in symbol_to_name, \"U\" in symbol_to_name\n",
    "symbol_to_name.get(\"P\", \"unknown\")\n",
    "symbol_to_name.get(\"N\", \"unknown\")\n",
    "symbol_to_name.keys()\n",
    "symbol_to_name.values()\n",
    "symbol_to_name.update( {\"P\": \"phosphorous\", \"S\": \"sulfur\"} )\n",
    "symbol_to_name\n",
    "#del symbol_to_name['C']\n",
    "#symbol_to_name"
   ]
  },
  {
   "cell_type": "code",
   "execution_count": 105,
   "metadata": {},
   "outputs": [
    {
     "data": {
      "text/plain": [
       "'Hello'"
      ]
     },
     "execution_count": 105,
     "metadata": {},
     "output_type": "execute_result"
    }
   ],
   "source": [
    "f = open(\"names.txt\")\n",
    "f.readline()"
   ]
  },
  {
   "cell_type": "code",
   "execution_count": null,
   "metadata": {},
   "outputs": [],
   "source": []
  }
 ],
 "metadata": {
  "kernelspec": {
   "display_name": "Python 3",
   "language": "python",
   "name": "python3"
  },
  "language_info": {
   "codemirror_mode": {
    "name": "ipython",
    "version": 3
   },
   "file_extension": ".py",
   "mimetype": "text/x-python",
   "name": "python",
   "nbconvert_exporter": "python",
   "pygments_lexer": "ipython3",
   "version": "3.7.0"
  }
 },
 "nbformat": 4,
 "nbformat_minor": 2
}
